{
 "cells": [
  {
   "cell_type": "code",
   "execution_count": null,
   "id": "43001f9a",
   "metadata": {},
   "outputs": [],
   "source": [
    "!pip install pandas"
   ]
  },
  {
   "cell_type": "code",
   "execution_count": null,
   "id": "c4b453b1",
   "metadata": {},
   "outputs": [],
   "source": [
    "!pip install nltk"
   ]
  },
  {
   "cell_type": "code",
   "execution_count": null,
   "id": "9aa2efbe",
   "metadata": {},
   "outputs": [],
   "source": [
    "!pip install scikit-learn"
   ]
  },
  {
   "cell_type": "code",
   "execution_count": null,
   "id": "77c5d628",
   "metadata": {},
   "outputs": [],
   "source": [
    "!pip install gensim"
   ]
  },
  {
   "cell_type": "code",
   "execution_count": null,
   "id": "68fdbe0c",
   "metadata": {},
   "outputs": [],
   "source": [
    "!pip install pytrec_eval"
   ]
  },
  {
   "cell_type": "code",
   "execution_count": 1,
   "id": "58371fa2",
   "metadata": {
    "scrolled": true
   },
   "outputs": [
    {
     "name": "stderr",
     "output_type": "stream",
     "text": [
      "[nltk_data] Downloading package brown to /Users/xyz/nltk_data...\n",
      "[nltk_data]   Package brown is already up-to-date!\n",
      "[nltk_data] Downloading package reuters to /Users/xyz/nltk_data...\n",
      "[nltk_data]   Package reuters is already up-to-date!\n"
     ]
    },
    {
     "name": "stdout",
     "output_type": "stream",
     "text": [
      "Average Cosine Similarity (TF-IDF): 0.3948066831521956\n",
      "Average nDCG (TF-IDF): 0.0\n",
      "Average Cosine Similarity (Word2Vec): 0.5503238439559937\n",
      "Average nDCG (Word2Vec): 0.025154747035756493\n"
     ]
    }
   ],
   "source": [
    "import pandas as pd\n",
    "import nltk\n",
    "from nltk.corpus import brown, reuters\n",
    "from sklearn.feature_extraction.text import TfidfVectorizer\n",
    "from sklearn.metrics.pairwise import linear_kernel\n",
    "from gensim.models import Word2Vec\n",
    "import pytrec_eval\n",
    "import numpy as np\n",
    "\n",
    "def load_simlex999(path='SimLex-999.txt'):\n",
    "    simlex999 = pd.read_csv(path, sep='\\t')\n",
    "    return simlex999\n",
    "\n",
    "simlex999 = load_simlex999()\n",
    "\n",
    "nltk.download('brown')\n",
    "nltk.download('reuters')\n",
    "corpus = brown.sents() + reuters.sents()\n",
    "corpus_words = [word.lower() for sentence in corpus for word in sentence if word.isalpha()]\n",
    "\n",
    "def build_tfidf_model(corpus):\n",
    "    tfidf_vectorizer = TfidfVectorizer()\n",
    "    tfidf_matrix = tfidf_vectorizer.fit_transform([' '.join(sentence) for sentence in corpus])\n",
    "    return tfidf_vectorizer, tfidf_matrix\n",
    "\n",
    "tfidf_vectorizer, tfidf_matrix = build_tfidf_model(corpus)\n",
    "\n",
    "def find_top_k_tfidf(word, k=10):\n",
    "    word_index = tfidf_vectorizer.vocabulary_.get(word)\n",
    "    if word_index is not None:\n",
    "        cosine_similarities = linear_kernel(tfidf_matrix[word_index], tfidf_matrix).flatten()\n",
    "        related_docs_indices = cosine_similarities.argsort()[:-min(k, len(cosine_similarities)) - 1:-1]\n",
    "        related_docs_indices = [idx for idx in related_docs_indices if idx < len(tfidf_vectorizer.get_feature_names_out())]\n",
    "        related_words = [tfidf_vectorizer.get_feature_names_out()[i] for i in related_docs_indices]\n",
    "        cosine_scores = cosine_similarities[related_docs_indices]\n",
    "        return related_words, cosine_scores\n",
    "    else:\n",
    "        return [], []\n",
    "\n",
    "def train_word2vec_model(corpus):\n",
    "    model = Word2Vec(corpus, vector_size=100, window=5, min_count=1, workers=4)\n",
    "    model.train(corpus, total_examples=len(corpus), epochs=10)\n",
    "    return model\n",
    "\n",
    "word2vec_model = train_word2vec_model(corpus)\n",
    "\n",
    "def find_top_k_word2vec(word, k=10):\n",
    "    if word in word2vec_model.wv.key_to_index:\n",
    "        similar_words = [word for word, similarity in word2vec_model.wv.most_similar(word, topn=k)]\n",
    "        cosine_scores = [similarity for word, similarity in word2vec_model.wv.most_similar(word, topn=k)]\n",
    "        return similar_words, cosine_scores\n",
    "    else:\n",
    "        return [], []\n",
    "\n",
    "def evaluate_model(simlex999, model_retrieval_func):\n",
    "    qrel = {}\n",
    "    for _, row in simlex999.iterrows():\n",
    "        qrel[row['word1']] = {row['word2']: int(row['SimLex999'] > 3.0)}\n",
    "    run = {}\n",
    "    for _, row in simlex999.iterrows():\n",
    "        run[row['word1']] = {word: 0 for word in model_retrieval_func(row['word1'])[0]}\n",
    "    evaluator = pytrec_eval.RelevanceEvaluator(qrel, {'ndcg'})\n",
    "    metrics = evaluator.evaluate(run)\n",
    "    ndcg_scores = [metrics[query]['ndcg'] for query in metrics]\n",
    "    avg_ndcg = np.mean(ndcg_scores)\n",
    "    return avg_ndcg\n",
    "\n",
    "def calculate_avg_cosine_similarity(cosine_scores):\n",
    "    return np.mean(cosine_scores)\n",
    "\n",
    "related_words_tfidf, cosine_scores_tfidf = find_top_k_tfidf(\"example\", k=10)\n",
    "avg_cosine_similarity_tfidf = calculate_avg_cosine_similarity(cosine_scores_tfidf)\n",
    "print(\"Average Cosine Similarity (TF-IDF):\", avg_cosine_similarity_tfidf)\n",
    "avg_ndcg_tfidf = evaluate_model(simlex999, lambda word: find_top_k_tfidf(word, k=10))\n",
    "print(\"Average nDCG (TF-IDF):\", avg_ndcg_tfidf)\n",
    "related_words_word2vec, cosine_scores_word2vec = find_top_k_word2vec(\"example\", k=10)\n",
    "avg_cosine_similarity_word2vec = calculate_avg_cosine_similarity(cosine_scores_word2vec)\n",
    "print(\"Average Cosine Similarity (Word2Vec):\", avg_cosine_similarity_word2vec)\n",
    "avg_ndcg_word2vec = evaluate_model(simlex999, lambda word: find_top_k_word2vec(word, k=10))\n",
    "print(\"Average nDCG (Word2Vec):\", avg_ndcg_word2vec)\n"
   ]
  },
  {
   "cell_type": "code",
   "execution_count": null,
   "id": "990d5b89",
   "metadata": {},
   "outputs": [],
   "source": []
  }
 ],
 "metadata": {
  "kernelspec": {
   "display_name": "Python 3 (ipykernel)",
   "language": "python",
   "name": "python3"
  },
  "language_info": {
   "codemirror_mode": {
    "name": "ipython",
    "version": 3
   },
   "file_extension": ".py",
   "mimetype": "text/x-python",
   "name": "python",
   "nbconvert_exporter": "python",
   "pygments_lexer": "ipython3",
   "version": "3.11.5"
  }
 },
 "nbformat": 4,
 "nbformat_minor": 5
}
