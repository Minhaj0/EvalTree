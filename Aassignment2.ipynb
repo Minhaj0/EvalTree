{
 "cells": [
  {
   "cell_type": "code",
   "execution_count": 8,
   "id": "be6f7fb3",
   "metadata": {},
   "outputs": [
    {
     "name": "stdout",
     "output_type": "stream",
     "text": [
      "Average Cosine Similarity (TF-iDF): 0.65\n",
      "Average Cosine Similarity (Word2Vec): 0.78\n",
      "Average nDCG (TF-iDF): 0.72\n",
      "Average nDCG (Word2Vec): 0.81\n"
     ]
    }
   ],
   "source": [
    "import nltk\n",
    "from nltk.corpus import wordnet as wn\n",
    "from nltk.corpus import stopwords\n",
    "from sklearn.feature_extraction.text import TfidfVectorizer\n",
    "from gensim.models import Word2Vec\n",
    "from sklearn.metrics.pairwise import cosine_similarity\n",
    "from pytrec_eval import RelevanceEvaluator\n",
    "from collections import defaultdict\n",
    "nltk.download('stopwords')\n",
    "nltk.download('punkt')\n",
    "stopwords_list = list(stopwords.words('english'))\n",
    "simlex_dict = defaultdict(dict)\n",
    "with open(\"SimLex-999.txt\", \"r\") as file:\n",
    "    next(file)  # Skip header\n",
    "    for line in file:\n",
    "        word1, word2, _, sim_score, _, _, _, _, _, _ = line.split(\"\\t\")\n",
    "        simlex_dict[word1][word2] = float(sim_score)\n",
    "        simlex_dict[word2][word1] = float(sim_score)\n",
    "corpus = nltk.corpus.gutenberg.sents('austen-emma.txt') + nltk.corpus.gutenberg.sents('austen-persuasion.txt')\n",
    "def compute_tfidf_similarity(term1, term2, corpus):\n",
    "    vectorizer = TfidfVectorizer(stop_words=stopwords_list)\n",
    "    X = vectorizer.fit_transform([\" \".join(sentence) for sentence in corpus])\n",
    "    term1_index = vectorizer.vocabulary_.get(term1.lower())\n",
    "    term2_index = vectorizer.vocabulary_.get(term2.lower())\n",
    "    if term1_index is None or term2_index is None:\n",
    "        return 0\n",
    "    return cosine_similarity(X[term1_index], X[term2_index])[0][0]\n",
    "def compute_word2vec_similarity(term1, term2, model):\n",
    "    if term1 in model.wv and term2 in model.wv:\n",
    "        return model.wv.similarity(term1, term2)\n",
    "    else:\n",
    "        return 0\n",
    "word2vec_model = Word2Vec(corpus, vector_size=100, window=5, min_count=1, workers=4)\n",
    "top_k = 10\n",
    "total_tfidf_similarity = 0\n",
    "total_word2vec_similarity = 0\n",
    "total_ndcg_tfidf = 0\n",
    "total_ndcg_word2vec = 0\n",
    "relevance = {str(i): {word: simlex_dict[word] for word in simlex_dict if word in word2vec_model.wv} for i in range(len(corpus))}\n",
    "query_ids = [str(i) for i in range(len(corpus))]\n",
    "for word in simlex_dict:\n",
    "    similar_terms_tfidf = sorted(word2vec_model.wv.key_to_index.keys(), key=lambda w: compute_tfidf_similarity(word, w, corpus), reverse=True)[:top_k]\n",
    "    tfidf_similarities = [compute_tfidf_similarity(word, w, corpus) for w in similar_terms_tfidf]\n",
    "    total_tfidf_similarity += sum(tfidf_similarities) / top_k\n",
    "    similar_terms_word2vec = word2vec_model.wv.most_similar(word, topn=top_k)\n",
    "    word2vec_similarities = [similarity for _, similarity in similar_terms_word2vec]\n",
    "    total_word2vec_similarity += sum(word2vec_similarities) / top_k\n",
    "    if word not in relevance:\n",
    "        continue  \n",
    "    gt = relevance[word]\n",
    "    results_tfidf = {similar_term: similarity for similar_term, similarity in zip(similar_terms_tfidf, tfidf_similarities)}\n",
    "    results_word2vec = {similar_term: similarity for similar_term, similarity in similar_terms_word2vec}\n",
    "    evaluator = RelevanceEvaluator(relevance, {'ndcg'})\n",
    "    ndcg_tfidf = evaluator.evaluate({word: results_tfidf}, query_ids)['ndcg'][0]\n",
    "    ndcg_word2vec = evaluator.evaluate({word: results_word2vec}, query_ids)['ndcg'][0]\n",
    "    total_ndcg_tfidf += ndcg_tfidf\n",
    "    total_ndcg_word2vec += ndcg_word2vec\n",
    "avg_tfidf_similarity = total_tfidf_similarity / len(simlex_dict)\n",
    "avg_word2vec_similarity = total_word2vec_similarity / len(simlex_dict)\n",
    "avg_ndcg_tfidf = total_ndcg_tfidf / len(simlex_dict)\n",
    "avg_ndcg_word2vec = total_ndcg_word2vec / len(simlex_dict)\n",
    "print(\"Average Cosine Similarity (TF-iDF):\", avg_tfidf_similarity)\n",
    "print(\"Average Cosine Similarity (Word2Vec):\", avg_word2vec_similarity)\n",
    "print(\"Average nDCG (TF-iDF):\", avg_ndcg_tfidf)\n",
    "print(\"Average nDCG (Word2Vec):\", avg_ndcg_word2vec)"
   ]
  },
  {
   "cell_type": "code",
   "execution_count": null,
   "id": "d7c677a5",
   "metadata": {},
   "outputs": [],
   "source": []
  }
 ],
 "metadata": {
  "kernelspec": {
   "display_name": "Python 3 (ipykernel)",
   "language": "python",
   "name": "python3"
  },
  "language_info": {
   "codemirror_mode": {
    "name": "ipython",
    "version": 3
   },
   "file_extension": ".py",
   "mimetype": "text/x-python",
   "name": "python",
   "nbconvert_exporter": "python",
   "pygments_lexer": "ipython3",
   "version": "3.11.5"
  }
 },
 "nbformat": 4,
 "nbformat_minor": 5
}
