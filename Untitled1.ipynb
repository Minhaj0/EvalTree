{
 "cells": [
  {
   "cell_type": "code",
   "execution_count": 7,
   "id": "3977bc34",
   "metadata": {},
   "outputs": [
    {
     "name": "stderr",
     "output_type": "stream",
     "text": [
      "[nltk_data] Downloading package stopwords to /Users/xyz/nltk_data...\n",
      "[nltk_data]   Package stopwords is already up-to-date!\n",
      "[nltk_data] Downloading package punkt to /Users/xyz/nltk_data...\n",
      "[nltk_data]   Package punkt is already up-to-date!\n"
     ]
    },
    {
     "ename": "AttributeError",
     "evalue": "'list' object has no attribute 'lower'",
     "output_type": "error",
     "traceback": [
      "\u001b[0;31m---------------------------------------------------------------------------\u001b[0m",
      "\u001b[0;31mAttributeError\u001b[0m                            Traceback (most recent call last)",
      "Cell \u001b[0;32mIn[7], line 84\u001b[0m\n\u001b[1;32m     82\u001b[0m tfidf_model_news \u001b[38;5;241m=\u001b[39m TfidfVectorizer(stop_words\u001b[38;5;241m=\u001b[39mstopwords_list)\u001b[38;5;241m.\u001b[39mfit([\u001b[38;5;124m'\u001b[39m\u001b[38;5;124m \u001b[39m\u001b[38;5;124m'\u001b[39m\u001b[38;5;241m.\u001b[39mjoin(sentence) \u001b[38;5;28;01mfor\u001b[39;00m sentence \u001b[38;5;129;01min\u001b[39;00m corpora[\u001b[38;5;124m'\u001b[39m\u001b[38;5;124mnews\u001b[39m\u001b[38;5;124m'\u001b[39m]])\n\u001b[1;32m     83\u001b[0m tfidf_model_romance \u001b[38;5;241m=\u001b[39m TfidfVectorizer(stop_words\u001b[38;5;241m=\u001b[39mstopwords_list)\u001b[38;5;241m.\u001b[39mfit([\u001b[38;5;124m'\u001b[39m\u001b[38;5;124m \u001b[39m\u001b[38;5;124m'\u001b[39m\u001b[38;5;241m.\u001b[39mjoin(sentence) \u001b[38;5;28;01mfor\u001b[39;00m sentence \u001b[38;5;129;01min\u001b[39;00m corpora[\u001b[38;5;124m'\u001b[39m\u001b[38;5;124mromance\u001b[39m\u001b[38;5;124m'\u001b[39m]])\n\u001b[0;32m---> 84\u001b[0m tfidf_cosine_similarity_news, tfidf_ndcg_news \u001b[38;5;241m=\u001b[39m evaluate_method(tfidf_model_news, corpora[\u001b[38;5;124m'\u001b[39m\u001b[38;5;124mnews\u001b[39m\u001b[38;5;124m'\u001b[39m], simlex_dict, \u001b[38;5;124m'\u001b[39m\u001b[38;5;124mnews\u001b[39m\u001b[38;5;124m'\u001b[39m)\n\u001b[1;32m     85\u001b[0m tfidf_cosine_similarity_romance, tfidf_ndcg_romance \u001b[38;5;241m=\u001b[39m evaluate_method(tfidf_model_romance, corpora[\u001b[38;5;124m'\u001b[39m\u001b[38;5;124mromance\u001b[39m\u001b[38;5;124m'\u001b[39m], simlex_dict, \u001b[38;5;124m'\u001b[39m\u001b[38;5;124mromance\u001b[39m\u001b[38;5;124m'\u001b[39m)\n\u001b[1;32m     87\u001b[0m word2vec_results \u001b[38;5;241m=\u001b[39m {}\n",
      "Cell \u001b[0;32mIn[7], line 48\u001b[0m, in \u001b[0;36mevaluate_method\u001b[0;34m(method, corpus, golden_truth, corpus_name)\u001b[0m\n\u001b[1;32m     46\u001b[0m query_ids \u001b[38;5;241m=\u001b[39m [\u001b[38;5;28mstr\u001b[39m(i) \u001b[38;5;28;01mfor\u001b[39;00m i \u001b[38;5;129;01min\u001b[39;00m \u001b[38;5;28mrange\u001b[39m(\u001b[38;5;28mlen\u001b[39m(corpus))]\n\u001b[1;32m     47\u001b[0m \u001b[38;5;28;01mfor\u001b[39;00m word \u001b[38;5;129;01min\u001b[39;00m \u001b[38;5;28mlist\u001b[39m(golden_truth):\n\u001b[0;32m---> 48\u001b[0m     similar_terms \u001b[38;5;241m=\u001b[39m \u001b[38;5;28msorted\u001b[39m(method\u001b[38;5;241m.\u001b[39mvocabulary_, key\u001b[38;5;241m=\u001b[39m\u001b[38;5;28;01mlambda\u001b[39;00m w: compute_tfidf_cosine_similarity(word, w, method, corpus), reverse\u001b[38;5;241m=\u001b[39m\u001b[38;5;28;01mTrue\u001b[39;00m)[:top_k]\n\u001b[1;32m     49\u001b[0m     similarities \u001b[38;5;241m=\u001b[39m [compute_tfidf_cosine_similarity(word, w, method, corpus) \u001b[38;5;28;01mfor\u001b[39;00m w \u001b[38;5;129;01min\u001b[39;00m similar_terms]\n\u001b[1;32m     50\u001b[0m     total_cosine_similarity \u001b[38;5;241m+\u001b[39m\u001b[38;5;241m=\u001b[39m \u001b[38;5;28msum\u001b[39m(similarities) \u001b[38;5;241m/\u001b[39m top_k\n",
      "Cell \u001b[0;32mIn[7], line 48\u001b[0m, in \u001b[0;36mevaluate_method.<locals>.<lambda>\u001b[0;34m(w)\u001b[0m\n\u001b[1;32m     46\u001b[0m query_ids \u001b[38;5;241m=\u001b[39m [\u001b[38;5;28mstr\u001b[39m(i) \u001b[38;5;28;01mfor\u001b[39;00m i \u001b[38;5;129;01min\u001b[39;00m \u001b[38;5;28mrange\u001b[39m(\u001b[38;5;28mlen\u001b[39m(corpus))]\n\u001b[1;32m     47\u001b[0m \u001b[38;5;28;01mfor\u001b[39;00m word \u001b[38;5;129;01min\u001b[39;00m \u001b[38;5;28mlist\u001b[39m(golden_truth):\n\u001b[0;32m---> 48\u001b[0m     similar_terms \u001b[38;5;241m=\u001b[39m \u001b[38;5;28msorted\u001b[39m(method\u001b[38;5;241m.\u001b[39mvocabulary_, key\u001b[38;5;241m=\u001b[39m\u001b[38;5;28;01mlambda\u001b[39;00m w: compute_tfidf_cosine_similarity(word, w, method, corpus), reverse\u001b[38;5;241m=\u001b[39m\u001b[38;5;28;01mTrue\u001b[39;00m)[:top_k]\n\u001b[1;32m     49\u001b[0m     similarities \u001b[38;5;241m=\u001b[39m [compute_tfidf_cosine_similarity(word, w, method, corpus) \u001b[38;5;28;01mfor\u001b[39;00m w \u001b[38;5;129;01min\u001b[39;00m similar_terms]\n\u001b[1;32m     50\u001b[0m     total_cosine_similarity \u001b[38;5;241m+\u001b[39m\u001b[38;5;241m=\u001b[39m \u001b[38;5;28msum\u001b[39m(similarities) \u001b[38;5;241m/\u001b[39m top_k\n",
      "Cell \u001b[0;32mIn[7], line 34\u001b[0m, in \u001b[0;36mcompute_tfidf_cosine_similarity\u001b[0;34m(term1, term2, model, corpus)\u001b[0m\n\u001b[1;32m     33\u001b[0m \u001b[38;5;28;01mdef\u001b[39;00m \u001b[38;5;21mcompute_tfidf_cosine_similarity\u001b[39m(term1, term2, model, corpus):\n\u001b[0;32m---> 34\u001b[0m     tfidf_matrix \u001b[38;5;241m=\u001b[39m model\u001b[38;5;241m.\u001b[39mtransform(corpus)\n\u001b[1;32m     35\u001b[0m     term1_index \u001b[38;5;241m=\u001b[39m model\u001b[38;5;241m.\u001b[39mvocabulary_\u001b[38;5;241m.\u001b[39mget(term1\u001b[38;5;241m.\u001b[39mlower())\n\u001b[1;32m     36\u001b[0m     term2_index \u001b[38;5;241m=\u001b[39m model\u001b[38;5;241m.\u001b[39mvocabulary_\u001b[38;5;241m.\u001b[39mget(term2\u001b[38;5;241m.\u001b[39mlower())\n",
      "File \u001b[0;32m~/anaconda3/lib/python3.11/site-packages/sklearn/feature_extraction/text.py:2150\u001b[0m, in \u001b[0;36mTfidfVectorizer.transform\u001b[0;34m(self, raw_documents)\u001b[0m\n\u001b[1;32m   2133\u001b[0m \u001b[38;5;250m\u001b[39m\u001b[38;5;124;03m\"\"\"Transform documents to document-term matrix.\u001b[39;00m\n\u001b[1;32m   2134\u001b[0m \n\u001b[1;32m   2135\u001b[0m \u001b[38;5;124;03mUses the vocabulary and document frequencies (df) learned by fit (or\u001b[39;00m\n\u001b[0;32m   (...)\u001b[0m\n\u001b[1;32m   2146\u001b[0m \u001b[38;5;124;03m    Tf-idf-weighted document-term matrix.\u001b[39;00m\n\u001b[1;32m   2147\u001b[0m \u001b[38;5;124;03m\"\"\"\u001b[39;00m\n\u001b[1;32m   2148\u001b[0m check_is_fitted(\u001b[38;5;28mself\u001b[39m, msg\u001b[38;5;241m=\u001b[39m\u001b[38;5;124m\"\u001b[39m\u001b[38;5;124mThe TF-IDF vectorizer is not fitted\u001b[39m\u001b[38;5;124m\"\u001b[39m)\n\u001b[0;32m-> 2150\u001b[0m X \u001b[38;5;241m=\u001b[39m \u001b[38;5;28msuper\u001b[39m()\u001b[38;5;241m.\u001b[39mtransform(raw_documents)\n\u001b[1;32m   2151\u001b[0m \u001b[38;5;28;01mreturn\u001b[39;00m \u001b[38;5;28mself\u001b[39m\u001b[38;5;241m.\u001b[39m_tfidf\u001b[38;5;241m.\u001b[39mtransform(X, copy\u001b[38;5;241m=\u001b[39m\u001b[38;5;28;01mFalse\u001b[39;00m)\n",
      "File \u001b[0;32m~/anaconda3/lib/python3.11/site-packages/sklearn/feature_extraction/text.py:1428\u001b[0m, in \u001b[0;36mCountVectorizer.transform\u001b[0;34m(self, raw_documents)\u001b[0m\n\u001b[1;32m   1425\u001b[0m \u001b[38;5;28mself\u001b[39m\u001b[38;5;241m.\u001b[39m_check_vocabulary()\n\u001b[1;32m   1427\u001b[0m \u001b[38;5;66;03m# use the same matrix-building strategy as fit_transform\u001b[39;00m\n\u001b[0;32m-> 1428\u001b[0m _, X \u001b[38;5;241m=\u001b[39m \u001b[38;5;28mself\u001b[39m\u001b[38;5;241m.\u001b[39m_count_vocab(raw_documents, fixed_vocab\u001b[38;5;241m=\u001b[39m\u001b[38;5;28;01mTrue\u001b[39;00m)\n\u001b[1;32m   1429\u001b[0m \u001b[38;5;28;01mif\u001b[39;00m \u001b[38;5;28mself\u001b[39m\u001b[38;5;241m.\u001b[39mbinary:\n\u001b[1;32m   1430\u001b[0m     X\u001b[38;5;241m.\u001b[39mdata\u001b[38;5;241m.\u001b[39mfill(\u001b[38;5;241m1\u001b[39m)\n",
      "File \u001b[0;32m~/anaconda3/lib/python3.11/site-packages/sklearn/feature_extraction/text.py:1270\u001b[0m, in \u001b[0;36mCountVectorizer._count_vocab\u001b[0;34m(self, raw_documents, fixed_vocab)\u001b[0m\n\u001b[1;32m   1268\u001b[0m \u001b[38;5;28;01mfor\u001b[39;00m doc \u001b[38;5;129;01min\u001b[39;00m raw_documents:\n\u001b[1;32m   1269\u001b[0m     feature_counter \u001b[38;5;241m=\u001b[39m {}\n\u001b[0;32m-> 1270\u001b[0m     \u001b[38;5;28;01mfor\u001b[39;00m feature \u001b[38;5;129;01min\u001b[39;00m analyze(doc):\n\u001b[1;32m   1271\u001b[0m         \u001b[38;5;28;01mtry\u001b[39;00m:\n\u001b[1;32m   1272\u001b[0m             feature_idx \u001b[38;5;241m=\u001b[39m vocabulary[feature]\n",
      "File \u001b[0;32m~/anaconda3/lib/python3.11/site-packages/sklearn/feature_extraction/text.py:110\u001b[0m, in \u001b[0;36m_analyze\u001b[0;34m(doc, analyzer, tokenizer, ngrams, preprocessor, decoder, stop_words)\u001b[0m\n\u001b[1;32m    108\u001b[0m \u001b[38;5;28;01melse\u001b[39;00m:\n\u001b[1;32m    109\u001b[0m     \u001b[38;5;28;01mif\u001b[39;00m preprocessor \u001b[38;5;129;01mis\u001b[39;00m \u001b[38;5;129;01mnot\u001b[39;00m \u001b[38;5;28;01mNone\u001b[39;00m:\n\u001b[0;32m--> 110\u001b[0m         doc \u001b[38;5;241m=\u001b[39m preprocessor(doc)\n\u001b[1;32m    111\u001b[0m     \u001b[38;5;28;01mif\u001b[39;00m tokenizer \u001b[38;5;129;01mis\u001b[39;00m \u001b[38;5;129;01mnot\u001b[39;00m \u001b[38;5;28;01mNone\u001b[39;00m:\n\u001b[1;32m    112\u001b[0m         doc \u001b[38;5;241m=\u001b[39m tokenizer(doc)\n",
      "File \u001b[0;32m~/anaconda3/lib/python3.11/site-packages/sklearn/feature_extraction/text.py:68\u001b[0m, in \u001b[0;36m_preprocess\u001b[0;34m(doc, accent_function, lower)\u001b[0m\n\u001b[1;32m     49\u001b[0m \u001b[38;5;250m\u001b[39m\u001b[38;5;124;03m\"\"\"Chain together an optional series of text preprocessing steps to\u001b[39;00m\n\u001b[1;32m     50\u001b[0m \u001b[38;5;124;03mapply to a document.\u001b[39;00m\n\u001b[1;32m     51\u001b[0m \n\u001b[0;32m   (...)\u001b[0m\n\u001b[1;32m     65\u001b[0m \u001b[38;5;124;03m    preprocessed string\u001b[39;00m\n\u001b[1;32m     66\u001b[0m \u001b[38;5;124;03m\"\"\"\u001b[39;00m\n\u001b[1;32m     67\u001b[0m \u001b[38;5;28;01mif\u001b[39;00m lower:\n\u001b[0;32m---> 68\u001b[0m     doc \u001b[38;5;241m=\u001b[39m doc\u001b[38;5;241m.\u001b[39mlower()\n\u001b[1;32m     69\u001b[0m \u001b[38;5;28;01mif\u001b[39;00m accent_function \u001b[38;5;129;01mis\u001b[39;00m \u001b[38;5;129;01mnot\u001b[39;00m \u001b[38;5;28;01mNone\u001b[39;00m:\n\u001b[1;32m     70\u001b[0m     doc \u001b[38;5;241m=\u001b[39m accent_function(doc)\n",
      "\u001b[0;31mAttributeError\u001b[0m: 'list' object has no attribute 'lower'"
     ]
    }
   ],
   "source": [
    "import nltk\n",
    "from nltk.corpus import wordnet as wn\n",
    "from nltk.corpus import stopwords\n",
    "from sklearn.feature_extraction.text import TfidfVectorizer\n",
    "from gensim.models import Word2Vec\n",
    "from sklearn.metrics.pairwise import cosine_similarity\n",
    "from pytrec_eval import RelevanceEvaluator\n",
    "from collections import defaultdict\n",
    "nltk.download('stopwords')\n",
    "nltk.download('punkt')\n",
    "stopwords_list = list(stopwords.words('english'))\n",
    "simlex_dict = defaultdict(dict)\n",
    "with open(\"SimLex-999.txt\", \"r\") as file:\n",
    "    next(file)  # Skip header\n",
    "    for line in file:\n",
    "        word1, word2, _, sim_score, _, _, _, _, _, _ = line.split(\"\\t\")\n",
    "        simlex_dict[word1][word2] = float(sim_score)\n",
    "        simlex_dict[word2][word1] = float(sim_score)\n",
    "corpus = nltk.corpus.gutenberg.sents('austen-emma.txt') + nltk.corpus.gutenberg.sents('austen-persuasion.txt')\n",
    "def compute_tfidf_similarity(term1, term2, corpus):\n",
    "    vectorizer = TfidfVectorizer(stop_words=stopwords_list)\n",
    "    X = vectorizer.fit_transform([\" \".join(sentence) for sentence in corpus])\n",
    "    term1_index = vectorizer.vocabulary_.get(term1.lower())\n",
    "    term2_index = vectorizer.vocabulary_.get(term2.lower())\n",
    "    if term1_index is None or term2_index is None:\n",
    "        return 0\n",
    "    return cosine_similarity(X[term1_index], X[term2_index])[0][0]\n",
    "def compute_word2vec_similarity(term1, term2, model):\n",
    "    if term1 in model.wv and term2 in model.wv:\n",
    "        return model.wv.similarity(term1, term2)\n",
    "    else:\n",
    "        return 0\n",
    "word2vec_model = Word2Vec(corpus, vector_size=100, window=5, min_count=1, workers=4)\n",
    "top_k = 10\n",
    "total_tfidf_similarity = 0\n",
    "total_word2vec_similarity = 0\n",
    "total_ndcg_tfidf = 0\n",
    "total_ndcg_word2vec = 0\n",
    "relevance = {str(i): {word: simlex_dict[word] for word in simlex_dict if word in word2vec_model.wv} for i in range(len(corpus))}\n",
    "query_ids = [str(i) for i in range(len(corpus))]\n",
    "for word in simlex_dict:\n",
    "    similar_terms_tfidf = sorted(word2vec_model.wv.key_to_index.keys(), key=lambda w: compute_tfidf_similarity(word, w, corpus), reverse=True)[:top_k]\n",
    "    tfidf_similarities = [compute_tfidf_similarity(word, w, corpus) for w in similar_terms_tfidf]\n",
    "    total_tfidf_similarity += sum(tfidf_similarities) / top_k\n",
    "    similar_terms_word2vec = word2vec_model.wv.most_similar(word, topn=top_k)\n",
    "    word2vec_similarities = [similarity for _, similarity in similar_terms_word2vec]\n",
    "    total_word2vec_similarity += sum(word2vec_similarities) / top_k\n",
    "    if word not in relevance:\n",
    "        continue  \n",
    "    gt = relevance[word]\n",
    "    results_tfidf = {similar_term: similarity for similar_term, similarity in zip(similar_terms_tfidf, tfidf_similarities)}\n",
    "    results_word2vec = {similar_term: similarity for similar_term, similarity in similar_terms_word2vec}\n",
    "    evaluator = RelevanceEvaluator(relevance, {'ndcg'})\n",
    "    ndcg_tfidf = evaluator.evaluate({word: results_tfidf}, query_ids)['ndcg'][0]\n",
    "    ndcg_word2vec = evaluator.evaluate({word: results_word2vec}, query_ids)['ndcg'][0]\n",
    "    total_ndcg_tfidf += ndcg_tfidf\n",
    "    total_ndcg_word2vec += ndcg_word2vec\n",
    "avg_tfidf_similarity = total_tfidf_similarity / len(simlex_dict)\n",
    "avg_word2vec_similarity = total_word2vec_similarity / len(simlex_dict)\n",
    "avg_ndcg_tfidf = total_ndcg_tfidf / len(simlex_dict)\n",
    "avg_ndcg_word2vec = total_ndcg_word2vec / len(simlex_dict)\n",
    "print(\"Average Cosine Similarity (TF-iDF):\", avg_tfidf_similarity)\n",
    "print(\"Average Cosine Similarity (Word2Vec):\", avg_word2vec_similarity)\n",
    "print(\"Average nDCG (TF-iDF):\", avg_ndcg_tfidf)\n",
    "print(\"Average nDCG (Word2Vec):\", avg_ndcg_word2vec)"
   ]
  },
  {
   "cell_type": "code",
   "execution_count": null,
   "id": "60aa018f",
   "metadata": {},
   "outputs": [],
   "source": []
  }
 ],
 "metadata": {
  "kernelspec": {
   "display_name": "Python 3 (ipykernel)",
   "language": "python",
   "name": "python3"
  },
  "language_info": {
   "codemirror_mode": {
    "name": "ipython",
    "version": 3
   },
   "file_extension": ".py",
   "mimetype": "text/x-python",
   "name": "python",
   "nbconvert_exporter": "python",
   "pygments_lexer": "ipython3",
   "version": "3.11.5"
  }
 },
 "nbformat": 4,
 "nbformat_minor": 5
}
